{
 "cells": [
  {
   "cell_type": "code",
   "execution_count": 7,
   "id": "ef80e9bc-7f5e-41ac-b3d8-e176c2907c62",
   "metadata": {},
   "outputs": [
    {
     "name": "stdout",
     "output_type": "stream",
     "text": [
      "🚀 Launching EMR job: Merge Final CSV Job...\n",
      "⏳ Waiting for cluster j-FVCBU6OMHYFU to complete...\n",
      "✅ EMR job Merge Final CSV Job completed.\n"
     ]
    }
   ],
   "source": [
    "from run_full_pipeline import run_emr_job\n",
    "\n",
    "run_emr_job(\n",
    "    script_path=\"s3://glue-hospital-data/scripts/run_emr_merge_job.py\",\n",
    "    job_name=\"Merge Final CSV Job\"\n",
    ")"
   ]
  },
  {
   "cell_type": "code",
   "execution_count": null,
   "id": "33567ae1-c4c8-4b5a-8356-776e736a2bca",
   "metadata": {},
   "outputs": [],
   "source": []
  },
  {
   "cell_type": "code",
   "execution_count": null,
   "id": "5986cca8-6cb7-4df3-bac4-3249d24d5bd9",
   "metadata": {},
   "outputs": [],
   "source": []
  },
  {
   "cell_type": "code",
   "execution_count": 2,
   "id": "b3f6978a-f728-464a-8a13-f7b4bd3d3333",
   "metadata": {},
   "outputs": [
    {
     "data": {
      "text/plain": [
       "'/home/ec2-user/SageMaker/Hospital_Readmissions_ETL_Visualization'"
      ]
     },
     "execution_count": 2,
     "metadata": {},
     "output_type": "execute_result"
    }
   ],
   "source": [
    "import os\n",
    "os.getcwd()\n"
   ]
  },
  {
   "cell_type": "code",
   "execution_count": 3,
   "id": "4b37152b-872a-448b-a2c5-77966b0736c6",
   "metadata": {},
   "outputs": [
    {
     "name": "stdout",
     "output_type": "stream",
     "text": [
      "download: s3://glue-hospital-data/athena/gen_info/part-00000-32d6896f-e5d6-4f3e-b8a0-68a86e3bed82-c000.snappy.parquet to ./part-00000-32d6896f-e5d6-4f3e-b8a0-68a86e3bed82-c000.snappy.parquet\n"
     ]
    }
   ],
   "source": [
    "!aws s3 cp s3://glue-hospital-data/athena/gen_info/part-00000-32d6896f-e5d6-4f3e-b8a0-68a86e3bed82-c000.snappy.parquet ."
   ]
  },
  {
   "cell_type": "code",
   "execution_count": 4,
   "id": "75838f57-74e1-4461-ad99-8aa6abe61099",
   "metadata": {},
   "outputs": [
    {
     "name": "stdout",
     "output_type": "stream",
     "text": [
      "   provider id                       hospital name  \\\n",
      "0        10005       MARSHALL MEDICAL CENTER SOUTH   \n",
      "1        10012      DEKALB REGIONAL MEDICAL CENTER   \n",
      "2        10131            CRESTWOOD MEDICAL CENTER   \n",
      "3        11304            CHOCTAW GENERAL HOSPITAL   \n",
      "4        20018  YUKON KUSKOKWIM DELTA REG HOSPITAL   \n",
      "\n",
      "                            address        city state  zip code county name  \\\n",
      "0        2505 U S HIGHWAY 431 NORTH        BOAZ    AL     35957    MARSHALL   \n",
      "1              200 MED CENTER DRIVE  FORT PAYNE    AL     35968     DE KALB   \n",
      "2                ONE HOSPITAL DR SE  HUNTSVILLE    AL     35801     MADISON   \n",
      "3  401 VANITY FAIR LANE, PO BOX 618      BUTLER    AL     36904     CHOCTAW   \n",
      "4                        PO BOX 287      BETHEL    AK     99559      BETHEL   \n",
      "\n",
      "   phone number              hospital type  \\\n",
      "0    2565938310       Acute Care Hospitals   \n",
      "1    2568453150       Acute Care Hospitals   \n",
      "2    2568823100       Acute Care Hospitals   \n",
      "3    2054599100  Critical Access Hospitals   \n",
      "4    9075436300       Acute Care Hospitals   \n",
      "\n",
      "                            hospital ownership  ...  \\\n",
      "0  Government - Hospital District or Authority  ...   \n",
      "1                                  Proprietary  ...   \n",
      "2                                  Proprietary  ...   \n",
      "3               Voluntary non-profit - Private  ...   \n",
      "4                                       Tribal  ...   \n",
      "\n",
      "            readmission national comparison footnote  \\\n",
      "0                                                      \n",
      "1                                                      \n",
      "2                                                      \n",
      "3  Results are not available for this reporting p...   \n",
      "4                                                      \n",
      "\n",
      "  patient experience national comparison  \\\n",
      "0           Same as the national average   \n",
      "1             Below the national average   \n",
      "2             Below the national average   \n",
      "3                          Not Available   \n",
      "4             Below the national average   \n",
      "\n",
      "     patient experience national comparison footnote  \\\n",
      "0                                                      \n",
      "1                                                      \n",
      "2                                                      \n",
      "3  There are too few measures or measure groups r...   \n",
      "4                                                      \n",
      "\n",
      "  effectiveness of care national comparison  \\\n",
      "0                Above the national average   \n",
      "1              Same as the national average   \n",
      "2              Same as the national average   \n",
      "3              Same as the national average   \n",
      "4              Same as the national average   \n",
      "\n",
      "  effectiveness of care national comparison footnote  \\\n",
      "0                                                      \n",
      "1                                                      \n",
      "2                                                      \n",
      "3                                                      \n",
      "4                                                      \n",
      "\n",
      "  timeliness of care national comparison  \\\n",
      "0             Above the national average   \n",
      "1             Above the national average   \n",
      "2             Below the national average   \n",
      "3           Same as the national average   \n",
      "4                          Not Available   \n",
      "\n",
      "     timeliness of care national comparison footnote  \\\n",
      "0                                                      \n",
      "1                                                      \n",
      "2                                                      \n",
      "3                                                      \n",
      "4  Results are not available for this reporting p...   \n",
      "\n",
      "  efficient use of medical imaging national comparison  \\\n",
      "0                         Below the national average     \n",
      "1                       Same as the national average     \n",
      "2                       Same as the national average     \n",
      "3                                      Not Available     \n",
      "4                                      Not Available     \n",
      "\n",
      "  efficient use of medical imaging national comparison footnote  \\\n",
      "0                                                                 \n",
      "1                                                                 \n",
      "2                                                                 \n",
      "3  Results are not available for this reporting p...              \n",
      "4  There are too few measures or measure groups r...              \n",
      "\n",
      "                                            location  \n",
      "0          2505 U S HIGHWAY 431 NORTH BOAZ, AL 35957  \n",
      "1          200 MED CENTER DRIVE FORT PAYNE, AL 35968  \n",
      "2            ONE HOSPITAL DR SE HUNTSVILLE, AL 35801  \n",
      "3  401 VANITY FAIR LANE, PO BOX 618 BUTLER, AL 36904  \n",
      "4                        PO BOX 287 BETHEL, AK 99559  \n",
      "\n",
      "[5 rows x 29 columns]\n",
      "\n",
      "Data types:\n",
      " provider id                                                       int32\n",
      "hospital name                                                    object\n",
      "address                                                          object\n",
      "city                                                             object\n",
      "state                                                            object\n",
      "zip code                                                          int32\n",
      "county name                                                      object\n",
      "phone number                                                      int64\n",
      "hospital type                                                    object\n",
      "hospital ownership                                               object\n",
      "emergency services                                                 bool\n",
      "meets criteria for meaningful use of ehrs                        object\n",
      "hospital overall rating                                          object\n",
      "hospital overall rating footnote                                 object\n",
      "mortality national comparison                                    object\n",
      "mortality national comparison footnote                           object\n",
      "safety of care national comparison                               object\n",
      "safety of care national comparison footnote                      object\n",
      "readmission national comparison                                  object\n",
      "readmission national comparison footnote                         object\n",
      "patient experience national comparison                           object\n",
      "patient experience national comparison footnote                  object\n",
      "effectiveness of care national comparison                        object\n",
      "effectiveness of care national comparison footnote               object\n",
      "timeliness of care national comparison                           object\n",
      "timeliness of care national comparison footnote                  object\n",
      "efficient use of medical imaging national comparison             object\n",
      "efficient use of medical imaging national comparison footnote    object\n",
      "location                                                         object\n",
      "dtype: object\n"
     ]
    }
   ],
   "source": [
    "import pandas as pd\n",
    "\n",
    "# Load and preview the file\n",
    "df = pd.read_parquet(\"part-00000-32d6896f-e5d6-4f3e-b8a0-68a86e3bed82-c000.snappy.parquet\")\n",
    "\n",
    "# Show sample rows and schema\n",
    "print(df.head())\n",
    "print(\"\\nData types:\\n\", df.dtypes)\n"
   ]
  },
  {
   "cell_type": "code",
   "execution_count": null,
   "id": "31bf18ab-4b8e-4845-a659-644f2d3c4d76",
   "metadata": {},
   "outputs": [],
   "source": []
  },
  {
   "cell_type": "code",
   "execution_count": null,
   "id": "29cbc6d9-75e5-4664-9ed8-7ab156665f4b",
   "metadata": {},
   "outputs": [],
   "source": []
  },
  {
   "cell_type": "code",
   "execution_count": null,
   "id": "9ac56dd3-db0d-405b-8ff8-f28f28a483ff",
   "metadata": {},
   "outputs": [],
   "source": []
  },
  {
   "cell_type": "code",
   "execution_count": 5,
   "id": "6fbc0a9a-3aad-4ef9-8d4c-04fc6ac16ef3",
   "metadata": {},
   "outputs": [
    {
     "name": "stdout",
     "output_type": "stream",
     "text": [
      "download: s3://glue-hospital-data/athena/readmissions/part-00000-157c89b8-1dd3-4d66-8246-6e5835d9f04a-c000.snappy.parquet to ./part-00000-157c89b8-1dd3-4d66-8246-6e5835d9f04a-c000.snappy.parquet\n"
     ]
    }
   ],
   "source": [
    "!aws s3 cp s3://glue-hospital-data/athena/readmissions/part-00000-157c89b8-1dd3-4d66-8246-6e5835d9f04a-c000.snappy.parquet ."
   ]
  },
  {
   "cell_type": "code",
   "execution_count": 6,
   "id": "f8e56ae5-a5b9-4eaa-99d6-421465ceb421",
   "metadata": {},
   "outputs": [
    {
     "name": "stdout",
     "output_type": "stream",
     "text": [
      "            Hospital Name  Provider ID State            Measure Name  \\\n",
      "0  BYRD REGIONAL HOSPITAL       190164    LA       READM_30_AMI_HRRP   \n",
      "1  BYRD REGIONAL HOSPITAL       190164    LA      READM_30_CABG_HRRP   \n",
      "2  BYRD REGIONAL HOSPITAL       190164    LA      READM_30_COPD_HRRP   \n",
      "3  BYRD REGIONAL HOSPITAL       190164    LA        READM_30_HF_HRRP   \n",
      "4  BYRD REGIONAL HOSPITAL       190164    LA  READM_30_HIP_KNEE_HRRP   \n",
      "\n",
      "  Number of Discharges                                           Footnote  \\\n",
      "0        Not Available  1 - The number of cases/patients is too few to...   \n",
      "1        Not Available  1 - The number of cases/patients is too few to...   \n",
      "2                  217                                               None   \n",
      "3                  259                                               None   \n",
      "4        Not Available  1 - The number of cases/patients is too few to...   \n",
      "\n",
      "  Excess Readmission Ratio Predicted Readmission Rate  \\\n",
      "0            Not Available              Not Available   \n",
      "1            Not Available              Not Available   \n",
      "2                   1.0195                    20.9722   \n",
      "3                   1.0773                    23.9788   \n",
      "4            Not Available              Not Available   \n",
      "\n",
      "  Expected Readmission Rate Number of Readmissions  Start Date    End Date  \n",
      "0             Not Available          Not Available  07/01/2014  06/30/2017  \n",
      "1             Not Available          Not Available  07/01/2014  06/30/2017  \n",
      "2                   20.5712                     47  07/01/2014  06/30/2017  \n",
      "3                   22.2578                     67  07/01/2014  06/30/2017  \n",
      "4             Not Available          Not Available  07/01/2014  06/30/2017  \n",
      "Hospital Name                 object\n",
      "Provider ID                    int32\n",
      "State                         object\n",
      "Measure Name                  object\n",
      "Number of Discharges          object\n",
      "Footnote                      object\n",
      "Excess Readmission Ratio      object\n",
      "Predicted Readmission Rate    object\n",
      "Expected Readmission Rate     object\n",
      "Number of Readmissions        object\n",
      "Start Date                    object\n",
      "End Date                      object\n",
      "dtype: object\n"
     ]
    }
   ],
   "source": [
    "import pandas as pd\n",
    "\n",
    "df2 = pd.read_parquet(\"part-00000-157c89b8-1dd3-4d66-8246-6e5835d9f04a-c000.snappy.parquet\")\n",
    "\n",
    "print(df2.head())\n",
    "print(df2.dtypes)"
   ]
  },
  {
   "cell_type": "code",
   "execution_count": null,
   "id": "de356daf-92ca-438a-bc61-182da347d71f",
   "metadata": {},
   "outputs": [],
   "source": []
  }
 ],
 "metadata": {
  "kernelspec": {
   "display_name": "conda_python3",
   "language": "python",
   "name": "conda_python3"
  },
  "language_info": {
   "codemirror_mode": {
    "name": "ipython",
    "version": 3
   },
   "file_extension": ".py",
   "mimetype": "text/x-python",
   "name": "python",
   "nbconvert_exporter": "python",
   "pygments_lexer": "ipython3",
   "version": "3.10.18"
  }
 },
 "nbformat": 4,
 "nbformat_minor": 5
}
